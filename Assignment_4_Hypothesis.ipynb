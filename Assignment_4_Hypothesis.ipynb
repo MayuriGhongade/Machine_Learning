{
  "nbformat": 4,
  "nbformat_minor": 0,
  "metadata": {
    "colab": {
      "provenance": []
    },
    "kernelspec": {
      "name": "python3",
      "display_name": "Python 3"
    },
    "language_info": {
      "name": "python"
    }
  },
  "cells": [
    {
      "cell_type": "code",
      "execution_count": 1,
      "metadata": {
        "id": "LFQA0bDjfY8t"
      },
      "outputs": [],
      "source": [
        "# Import necessary libraries\n",
        "import scipy.stats as stats\n",
        "import math\n"
      ]
    },
    {
      "cell_type": "code",
      "source": [
        " #Step 1: State the Hypotheses\n",
        "# Null Hypothesis (H0): The mean weekly operating cost matches the theoretical model.\n",
        "# Alternate Hypothesis (H1): The mean weekly operating cost is higher than the theoretical model.\n"
      ],
      "metadata": {
        "id": "C6OPHBWBfsWO"
      },
      "execution_count": 3,
      "outputs": []
    },
    {
      "cell_type": "code",
      "source": [
        "# Step 2: Calculate the Test Statistic\n",
        "# Given Data\n",
        "sample_mean = 3050  # Sample mean weekly cost (Rs)\n",
        "theoretical_mean = 1000 + (5 * 600)  # Theoretical mean weekly cost\n",
        "std_deviation = 5 * 25  # Standard deviation of weekly costs\n",
        "sample_size = 25  # Sample size"
      ],
      "metadata": {
        "id": "yRhMaJndf2y_"
      },
      "execution_count": 4,
      "outputs": []
    },
    {
      "cell_type": "code",
      "source": [
        "# Calculate the test statistic (t)\n",
        "standard_error = std_deviation / math.sqrt(sample_size)\n",
        "test_statistic = (sample_mean - theoretical_mean) / standard_error"
      ],
      "metadata": {
        "id": "2NsYmO2Ef7V9"
      },
      "execution_count": 5,
      "outputs": []
    },
    {
      "cell_type": "code",
      "source": [
        "# Step 3: Determine the Critical Value\n",
        "# Alpha level (significance level)\n",
        "alpha = 0.05\n"
      ],
      "metadata": {
        "id": "LyFSyFiHf7Sj"
      },
      "execution_count": 6,
      "outputs": []
    },
    {
      "cell_type": "code",
      "source": [
        "# Since this is a one-tailed test (testing for increase in cost), find the Z critical value\n",
        "critical_value = stats.norm.ppf(1 - alpha)"
      ],
      "metadata": {
        "id": "l-x_AauOf7QC"
      },
      "execution_count": 7,
      "outputs": []
    },
    {
      "cell_type": "code",
      "source": [
        "# Step 4: Make a Decision\n",
        "# Compare the test statistic with the critical value\n",
        "reject_null = test_statistic > critical_value"
      ],
      "metadata": {
        "id": "1X-_gUmBf7Na"
      },
      "execution_count": 8,
      "outputs": []
    },
    {
      "cell_type": "code",
      "source": [
        "# Step 5: Conclusion\n",
        "if reject_null:\n",
        "    conclusion = \"There is strong evidence to support the restaurant owners' claim that the weekly operating costs are higher than the model suggests.\"\n",
        "else:\n",
        "    conclusion = \"There is insufficient evidence to support the restaurant owners' claim that the weekly operating costs are higher than the model suggests.\"\n"
      ],
      "metadata": {
        "id": "TNtXhQoqgKGh"
      },
      "execution_count": 9,
      "outputs": []
    },
    {
      "cell_type": "code",
      "source": [
        "# Print Results\n",
        "print(\"Step 2: Test Statistic:\", test_statistic)\n",
        "print(\"Step 3: Critical Value:\", critical_value)\n",
        "print(\"Step 4: Decision:\", \"Reject H0\" if reject_null else \"Fail to Reject H0\")\n",
        "print(\"Step 5: Conclusion:\", conclusion)"
      ],
      "metadata": {
        "colab": {
          "base_uri": "https://localhost:8080/"
        },
        "id": "dNlNVqGPgOfz",
        "outputId": "ffac7e07-2771-4814-e139-da3ea2e5b413"
      },
      "execution_count": 10,
      "outputs": [
        {
          "output_type": "stream",
          "name": "stdout",
          "text": [
            "Step 2: Test Statistic: -38.0\n",
            "Step 3: Critical Value: 1.6448536269514722\n",
            "Step 4: Decision: Fail to Reject H0\n",
            "Step 5: Conclusion: There is insufficient evidence to support the restaurant owners' claim that the weekly operating costs are higher than the model suggests.\n"
          ]
        }
      ]
    }
  ]
}