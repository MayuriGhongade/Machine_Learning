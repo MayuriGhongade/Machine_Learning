{
  "nbformat": 4,
  "nbformat_minor": 0,
  "metadata": {
    "colab": {
      "provenance": []
    },
    "kernelspec": {
      "name": "python3",
      "display_name": "Python 3"
    },
    "language_info": {
      "name": "python"
    }
  },
  "cells": [
    {
      "cell_type": "code",
      "execution_count": 1,
      "metadata": {
        "id": "qqF_-2-Dgi-e"
      },
      "outputs": [],
      "source": [
        "# Import necessary libraries\n",
        "import scipy.stats as stats\n",
        "import numpy as np\n"
      ]
    },
    {
      "cell_type": "code",
      "source": [
        "# Step 1: State the Hypotheses\n",
        "# Null Hypothesis (H0): There is no significant association between the type of smart home device and customer satisfaction levels.\n",
        "# Alternate Hypothesis (H1): There is a significant association between the type of smart home device and customer satisfaction levels.\n"
      ],
      "metadata": {
        "id": "5g4SYz4uhHNM"
      },
      "execution_count": 2,
      "outputs": []
    },
    {
      "cell_type": "code",
      "source": [
        "# Step 2: Compute the Chi-Square Statistic\n",
        "# Observed data (contingency table)\n",
        "observed = np.array([\n",
        "    [50, 70],  # Very Satisfied\n",
        "    [80, 100], # Satisfied\n",
        "    [60, 90],  # Neutral\n",
        "    [30, 50],  # Unsatisfied\n",
        "    [20, 50]   # Very Unsatisfied\n",
        "])"
      ],
      "metadata": {
        "id": "sYGMA4q4hJvo"
      },
      "execution_count": 3,
      "outputs": []
    },
    {
      "cell_type": "code",
      "source": [
        "observed"
      ],
      "metadata": {
        "colab": {
          "base_uri": "https://localhost:8080/"
        },
        "id": "EgLP3kcyhODA",
        "outputId": "dc906503-c2d1-49d4-9aee-f43d96464239"
      },
      "execution_count": 4,
      "outputs": [
        {
          "output_type": "execute_result",
          "data": {
            "text/plain": [
              "array([[ 50,  70],\n",
              "       [ 80, 100],\n",
              "       [ 60,  90],\n",
              "       [ 30,  50],\n",
              "       [ 20,  50]])"
            ]
          },
          "metadata": {},
          "execution_count": 4
        }
      ]
    },
    {
      "cell_type": "code",
      "source": [
        "import pandas as pd\n"
      ],
      "metadata": {
        "id": "8icVUGUshQQ9"
      },
      "execution_count": 5,
      "outputs": []
    },
    {
      "cell_type": "code",
      "source": [
        "import pandas as pd\n",
        "\n",
        "# Create a DataFrame for the observed data\n",
        "observed_df = pd.DataFrame(\n",
        "    observed,\n",
        "    columns=['Smart Thermostat', 'Smart Light'],\n",
        "    index=['Very Satisfied', 'Satisfied', 'Neutral', 'Unsatisfied', 'Very Unsatisfied']\n",
        ")\n",
        "\n",
        "print(observed_df)\n"
      ],
      "metadata": {
        "colab": {
          "base_uri": "https://localhost:8080/"
        },
        "id": "6qgf-i99haaZ",
        "outputId": "13a36dde-18fb-42a0-b8d9-0804102b833c"
      },
      "execution_count": 9,
      "outputs": [
        {
          "output_type": "stream",
          "name": "stdout",
          "text": [
            "                  Smart Thermostat  Smart Light\n",
            "Very Satisfied                  50           70\n",
            "Satisfied                       80          100\n",
            "Neutral                         60           90\n",
            "Unsatisfied                     30           50\n",
            "Very Unsatisfied                20           50\n"
          ]
        }
      ]
    },
    {
      "cell_type": "code",
      "source": [
        "# Compute row and column totals\n",
        "total_rows = observed.sum(axis=1)  # Row totals\n",
        "total_cols = observed.sum(axis=0)  # Column totals\n",
        "grand_total = observed.sum()       # Grand total"
      ],
      "metadata": {
        "id": "Mn_xlv1mheVP"
      },
      "execution_count": 10,
      "outputs": []
    },
    {
      "cell_type": "code",
      "source": [
        "# Calculate expected frequencies\n",
        "def calculate_expected(row_total, col_total, grand_total):\n",
        "    return (row_total * col_total) / grand_total"
      ],
      "metadata": {
        "id": "xKPwjCN9iAOj"
      },
      "execution_count": 11,
      "outputs": []
    },
    {
      "cell_type": "code",
      "source": [
        "expected = np.array([[calculate_expected(r, c, grand_total) for c in total_cols] for r in total_rows])"
      ],
      "metadata": {
        "id": "AkfYp4rYiEKx"
      },
      "execution_count": 12,
      "outputs": []
    },
    {
      "cell_type": "code",
      "source": [
        "# Compute the Chi-Square Statistic\n",
        "chi_square_statistic = ((observed - expected)**2 / expected).sum()\n"
      ],
      "metadata": {
        "id": "wt2jxcFLiHgJ"
      },
      "execution_count": 13,
      "outputs": []
    },
    {
      "cell_type": "code",
      "source": [
        "# Step 3: Determine the Critical Value\n",
        "# Degrees of freedom = (number of rows - 1) * (number of columns - 1)\n",
        "rows, cols = observed.shape\n",
        "degrees_of_freedom = (rows - 1) * (cols - 1)"
      ],
      "metadata": {
        "id": "PoZjQo5MiKNH"
      },
      "execution_count": 14,
      "outputs": []
    },
    {
      "cell_type": "code",
      "source": [
        "# Alpha level (significance level)\n",
        "alpha = 0.05\n"
      ],
      "metadata": {
        "id": "DKHUsZBuiM1o"
      },
      "execution_count": 15,
      "outputs": []
    },
    {
      "cell_type": "code",
      "source": [
        "# Critical value for the chi-square distribution\n",
        "critical_value = stats.chi2.ppf(1 - alpha, degrees_of_freedom)"
      ],
      "metadata": {
        "id": "W97TRfomiQAJ"
      },
      "execution_count": 16,
      "outputs": []
    },
    {
      "cell_type": "code",
      "source": [
        "# Step 4: Make a Decision\n",
        "# Compare the chi-square statistic with the critical value\n",
        "reject_null = chi_square_statistic > critical_value\n"
      ],
      "metadata": {
        "id": "8VcVlOtbiSz6"
      },
      "execution_count": 17,
      "outputs": []
    },
    {
      "cell_type": "code",
      "source": [
        "# Step 5: Conclusion\n",
        "if reject_null:\n",
        "    conclusion = \"There is a significant association between the type of smart home device and customer satisfaction levels.\"\n",
        "else:\n",
        "    conclusion = \"There is no significant association between the type of smart home device and customer satisfaction levels.\"\n"
      ],
      "metadata": {
        "id": "1s-kVfiLiZEQ"
      },
      "execution_count": 18,
      "outputs": []
    },
    {
      "cell_type": "code",
      "source": [
        "# Print Results\n",
        "print(\"Observed Data:\")\n",
        "print(observed)\n",
        "print(\"\\nExpected Frequencies:\")\n",
        "print(expected)\n",
        "print(\"\\nChi-Square Statistic:\", chi_square_statistic)\n",
        "print(\"Degrees of Freedom:\", degrees_of_freedom)\n",
        "print(\"Critical Value:\", critical_value)\n",
        "print(\"Decision:\", \"Reject H0\" if reject_null else \"Fail to Reject H0\")\n",
        "print(\"Conclusion:\", conclusion)"
      ],
      "metadata": {
        "colab": {
          "base_uri": "https://localhost:8080/"
        },
        "id": "72E6jiKWiZqP",
        "outputId": "f40446ce-67ba-43b2-d4a6-1977a522beb5"
      },
      "execution_count": 19,
      "outputs": [
        {
          "output_type": "stream",
          "name": "stdout",
          "text": [
            "Observed Data:\n",
            "[[ 50  70]\n",
            " [ 80 100]\n",
            " [ 60  90]\n",
            " [ 30  50]\n",
            " [ 20  50]]\n",
            "\n",
            "Expected Frequencies:\n",
            "[[ 48.  72.]\n",
            " [ 72. 108.]\n",
            " [ 60.  90.]\n",
            " [ 32.  48.]\n",
            " [ 28.  42.]]\n",
            "\n",
            "Chi-Square Statistic: 5.638227513227513\n",
            "Degrees of Freedom: 4\n",
            "Critical Value: 9.487729036781154\n",
            "Decision: Fail to Reject H0\n",
            "Conclusion: There is no significant association between the type of smart home device and customer satisfaction levels.\n"
          ]
        }
      ]
    }
  ]
}